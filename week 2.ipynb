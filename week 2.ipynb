{
 "cells": [
  {
   "cell_type": "code",
   "execution_count": 54,
   "id": "8ef42daa",
   "metadata": {},
   "outputs": [],
   "source": [
    "import pandas as pd\n",
    "import matplotlib.pyplot as plt\n",
    "import seaborn as sns\n"
   ]
  },
  {
   "cell_type": "code",
   "execution_count": 55,
   "id": "216baba7",
   "metadata": {},
   "outputs": [],
   "source": [
    "train_df = pd.read_csv(\"C:/Users/shivang/OneDrive/Desktop/Internship_project/world_risk_index.csv\")"
   ]
  },
  {
   "cell_type": "code",
   "execution_count": 56,
   "id": "c1e2854c",
   "metadata": {},
   "outputs": [
    {
     "data": {
      "application/vnd.microsoft.datawrangler.viewer.v0+json": {
       "columns": [
        {
         "name": "index",
         "rawType": "int64",
         "type": "integer"
        },
        {
         "name": "Region",
         "rawType": "object",
         "type": "string"
        },
        {
         "name": "WRI",
         "rawType": "float64",
         "type": "float"
        },
        {
         "name": "Exposure",
         "rawType": "float64",
         "type": "float"
        },
        {
         "name": "Vulnerability",
         "rawType": "float64",
         "type": "float"
        },
        {
         "name": "Susceptibility",
         "rawType": "float64",
         "type": "float"
        },
        {
         "name": "Lack of Coping Capabilities",
         "rawType": "float64",
         "type": "float"
        },
        {
         "name": " Lack of Adaptive Capacities",
         "rawType": "float64",
         "type": "float"
        },
        {
         "name": "Year",
         "rawType": "int64",
         "type": "integer"
        },
        {
         "name": "Exposure Category",
         "rawType": "object",
         "type": "string"
        },
        {
         "name": "WRI Category",
         "rawType": "object",
         "type": "string"
        },
        {
         "name": "Vulnerability Category",
         "rawType": "object",
         "type": "string"
        },
        {
         "name": "Susceptibility Category",
         "rawType": "object",
         "type": "string"
        }
       ],
       "ref": "c11ab02d-ec29-4780-bc54-9749a909100d",
       "rows": [
        [
         "0",
         "Vanuatu",
         "32.0",
         "56.33",
         "56.81",
         "37.14",
         "79.34",
         "53.96",
         "2011",
         "Very High",
         "Very High",
         "High",
         "High"
        ],
        [
         "1",
         "Tonga",
         "29.08",
         "56.04",
         "51.9",
         "28.94",
         "81.8",
         "44.97",
         "2011",
         "Very High",
         "Very High",
         "Medium",
         "Medium"
        ],
        [
         "2",
         "Philippinen",
         "24.32",
         "45.09",
         "53.93",
         "34.99",
         "82.78",
         "44.01",
         "2011",
         "Very High",
         "Very High",
         "High",
         "High"
        ],
        [
         "3",
         "Salomonen",
         "23.51",
         "36.4",
         "64.6",
         "44.11",
         "85.95",
         "63.74",
         "2011",
         "Very High",
         "Very High",
         "Very High",
         "High"
        ],
        [
         "4",
         "Guatemala",
         "20.88",
         "38.42",
         "54.35",
         "35.36",
         "77.83",
         "49.87",
         "2011",
         "Very High",
         "Very High",
         "High",
         "High"
        ],
        [
         "5",
         "Bangladesch",
         "17.45",
         "27.52",
         "63.41",
         "44.96",
         "86.49",
         "58.77",
         "2011",
         "Very High",
         "Very High",
         "Very High",
         "High"
        ],
        [
         "6",
         "Timor-Leste",
         "17.45",
         "25.97",
         "67.17",
         "52.42",
         "89.16",
         "59.93",
         "2011",
         "Very High",
         "Very High",
         "Very High",
         "Very High"
        ],
        [
         "7",
         "Costa Rica",
         "16.74",
         "42.39",
         "39.5",
         "21.96",
         "63.39",
         "33.14",
         "2011",
         "Very High",
         "Very High",
         "Low",
         "Low"
        ],
        [
         "8",
         "Kambodscha",
         "16.58",
         "26.66",
         "62.18",
         "48.28",
         "86.43",
         "51.81",
         "2011",
         "Very High",
         "Very High",
         "High",
         "High"
        ],
        [
         "9",
         "El Salvador",
         "16.49",
         "32.18",
         "51.24",
         "30.55",
         "75.35",
         "47.82",
         "2011",
         "Very High",
         "Very High",
         "Medium",
         "Medium"
        ]
       ],
       "shape": {
        "columns": 12,
        "rows": 10
       }
      },
      "text/html": [
       "<div>\n",
       "<style scoped>\n",
       "    .dataframe tbody tr th:only-of-type {\n",
       "        vertical-align: middle;\n",
       "    }\n",
       "\n",
       "    .dataframe tbody tr th {\n",
       "        vertical-align: top;\n",
       "    }\n",
       "\n",
       "    .dataframe thead th {\n",
       "        text-align: right;\n",
       "    }\n",
       "</style>\n",
       "<table border=\"1\" class=\"dataframe\">\n",
       "  <thead>\n",
       "    <tr style=\"text-align: right;\">\n",
       "      <th></th>\n",
       "      <th>Region</th>\n",
       "      <th>WRI</th>\n",
       "      <th>Exposure</th>\n",
       "      <th>Vulnerability</th>\n",
       "      <th>Susceptibility</th>\n",
       "      <th>Lack of Coping Capabilities</th>\n",
       "      <th>Lack of Adaptive Capacities</th>\n",
       "      <th>Year</th>\n",
       "      <th>Exposure Category</th>\n",
       "      <th>WRI Category</th>\n",
       "      <th>Vulnerability Category</th>\n",
       "      <th>Susceptibility Category</th>\n",
       "    </tr>\n",
       "  </thead>\n",
       "  <tbody>\n",
       "    <tr>\n",
       "      <th>0</th>\n",
       "      <td>Vanuatu</td>\n",
       "      <td>32.00</td>\n",
       "      <td>56.33</td>\n",
       "      <td>56.81</td>\n",
       "      <td>37.14</td>\n",
       "      <td>79.34</td>\n",
       "      <td>53.96</td>\n",
       "      <td>2011</td>\n",
       "      <td>Very High</td>\n",
       "      <td>Very High</td>\n",
       "      <td>High</td>\n",
       "      <td>High</td>\n",
       "    </tr>\n",
       "    <tr>\n",
       "      <th>1</th>\n",
       "      <td>Tonga</td>\n",
       "      <td>29.08</td>\n",
       "      <td>56.04</td>\n",
       "      <td>51.90</td>\n",
       "      <td>28.94</td>\n",
       "      <td>81.80</td>\n",
       "      <td>44.97</td>\n",
       "      <td>2011</td>\n",
       "      <td>Very High</td>\n",
       "      <td>Very High</td>\n",
       "      <td>Medium</td>\n",
       "      <td>Medium</td>\n",
       "    </tr>\n",
       "    <tr>\n",
       "      <th>2</th>\n",
       "      <td>Philippinen</td>\n",
       "      <td>24.32</td>\n",
       "      <td>45.09</td>\n",
       "      <td>53.93</td>\n",
       "      <td>34.99</td>\n",
       "      <td>82.78</td>\n",
       "      <td>44.01</td>\n",
       "      <td>2011</td>\n",
       "      <td>Very High</td>\n",
       "      <td>Very High</td>\n",
       "      <td>High</td>\n",
       "      <td>High</td>\n",
       "    </tr>\n",
       "    <tr>\n",
       "      <th>3</th>\n",
       "      <td>Salomonen</td>\n",
       "      <td>23.51</td>\n",
       "      <td>36.40</td>\n",
       "      <td>64.60</td>\n",
       "      <td>44.11</td>\n",
       "      <td>85.95</td>\n",
       "      <td>63.74</td>\n",
       "      <td>2011</td>\n",
       "      <td>Very High</td>\n",
       "      <td>Very High</td>\n",
       "      <td>Very High</td>\n",
       "      <td>High</td>\n",
       "    </tr>\n",
       "    <tr>\n",
       "      <th>4</th>\n",
       "      <td>Guatemala</td>\n",
       "      <td>20.88</td>\n",
       "      <td>38.42</td>\n",
       "      <td>54.35</td>\n",
       "      <td>35.36</td>\n",
       "      <td>77.83</td>\n",
       "      <td>49.87</td>\n",
       "      <td>2011</td>\n",
       "      <td>Very High</td>\n",
       "      <td>Very High</td>\n",
       "      <td>High</td>\n",
       "      <td>High</td>\n",
       "    </tr>\n",
       "    <tr>\n",
       "      <th>5</th>\n",
       "      <td>Bangladesch</td>\n",
       "      <td>17.45</td>\n",
       "      <td>27.52</td>\n",
       "      <td>63.41</td>\n",
       "      <td>44.96</td>\n",
       "      <td>86.49</td>\n",
       "      <td>58.77</td>\n",
       "      <td>2011</td>\n",
       "      <td>Very High</td>\n",
       "      <td>Very High</td>\n",
       "      <td>Very High</td>\n",
       "      <td>High</td>\n",
       "    </tr>\n",
       "    <tr>\n",
       "      <th>6</th>\n",
       "      <td>Timor-Leste</td>\n",
       "      <td>17.45</td>\n",
       "      <td>25.97</td>\n",
       "      <td>67.17</td>\n",
       "      <td>52.42</td>\n",
       "      <td>89.16</td>\n",
       "      <td>59.93</td>\n",
       "      <td>2011</td>\n",
       "      <td>Very High</td>\n",
       "      <td>Very High</td>\n",
       "      <td>Very High</td>\n",
       "      <td>Very High</td>\n",
       "    </tr>\n",
       "    <tr>\n",
       "      <th>7</th>\n",
       "      <td>Costa Rica</td>\n",
       "      <td>16.74</td>\n",
       "      <td>42.39</td>\n",
       "      <td>39.50</td>\n",
       "      <td>21.96</td>\n",
       "      <td>63.39</td>\n",
       "      <td>33.14</td>\n",
       "      <td>2011</td>\n",
       "      <td>Very High</td>\n",
       "      <td>Very High</td>\n",
       "      <td>Low</td>\n",
       "      <td>Low</td>\n",
       "    </tr>\n",
       "    <tr>\n",
       "      <th>8</th>\n",
       "      <td>Kambodscha</td>\n",
       "      <td>16.58</td>\n",
       "      <td>26.66</td>\n",
       "      <td>62.18</td>\n",
       "      <td>48.28</td>\n",
       "      <td>86.43</td>\n",
       "      <td>51.81</td>\n",
       "      <td>2011</td>\n",
       "      <td>Very High</td>\n",
       "      <td>Very High</td>\n",
       "      <td>High</td>\n",
       "      <td>High</td>\n",
       "    </tr>\n",
       "    <tr>\n",
       "      <th>9</th>\n",
       "      <td>El Salvador</td>\n",
       "      <td>16.49</td>\n",
       "      <td>32.18</td>\n",
       "      <td>51.24</td>\n",
       "      <td>30.55</td>\n",
       "      <td>75.35</td>\n",
       "      <td>47.82</td>\n",
       "      <td>2011</td>\n",
       "      <td>Very High</td>\n",
       "      <td>Very High</td>\n",
       "      <td>Medium</td>\n",
       "      <td>Medium</td>\n",
       "    </tr>\n",
       "  </tbody>\n",
       "</table>\n",
       "</div>"
      ],
      "text/plain": [
       "        Region    WRI  Exposure  Vulnerability  Susceptibility  \\\n",
       "0      Vanuatu  32.00     56.33          56.81           37.14   \n",
       "1        Tonga  29.08     56.04          51.90           28.94   \n",
       "2  Philippinen  24.32     45.09          53.93           34.99   \n",
       "3    Salomonen  23.51     36.40          64.60           44.11   \n",
       "4    Guatemala  20.88     38.42          54.35           35.36   \n",
       "5  Bangladesch  17.45     27.52          63.41           44.96   \n",
       "6  Timor-Leste  17.45     25.97          67.17           52.42   \n",
       "7   Costa Rica  16.74     42.39          39.50           21.96   \n",
       "8   Kambodscha  16.58     26.66          62.18           48.28   \n",
       "9  El Salvador  16.49     32.18          51.24           30.55   \n",
       "\n",
       "   Lack of Coping Capabilities   Lack of Adaptive Capacities  Year  \\\n",
       "0                        79.34                         53.96  2011   \n",
       "1                        81.80                         44.97  2011   \n",
       "2                        82.78                         44.01  2011   \n",
       "3                        85.95                         63.74  2011   \n",
       "4                        77.83                         49.87  2011   \n",
       "5                        86.49                         58.77  2011   \n",
       "6                        89.16                         59.93  2011   \n",
       "7                        63.39                         33.14  2011   \n",
       "8                        86.43                         51.81  2011   \n",
       "9                        75.35                         47.82  2011   \n",
       "\n",
       "  Exposure Category WRI Category Vulnerability Category  \\\n",
       "0         Very High    Very High                   High   \n",
       "1         Very High    Very High                 Medium   \n",
       "2         Very High    Very High                   High   \n",
       "3         Very High    Very High              Very High   \n",
       "4         Very High    Very High                   High   \n",
       "5         Very High    Very High              Very High   \n",
       "6         Very High    Very High              Very High   \n",
       "7         Very High    Very High                    Low   \n",
       "8         Very High    Very High                   High   \n",
       "9         Very High    Very High                 Medium   \n",
       "\n",
       "  Susceptibility Category  \n",
       "0                    High  \n",
       "1                  Medium  \n",
       "2                    High  \n",
       "3                    High  \n",
       "4                    High  \n",
       "5                    High  \n",
       "6               Very High  \n",
       "7                     Low  \n",
       "8                    High  \n",
       "9                  Medium  "
      ]
     },
     "execution_count": 56,
     "metadata": {},
     "output_type": "execute_result"
    }
   ],
   "source": [
    "train_df.head(10)"
   ]
  },
  {
   "cell_type": "code",
   "execution_count": 67,
   "id": "133066b1",
   "metadata": {},
   "outputs": [
    {
     "data": {
      "text/plain": [
       "(1917, 12)"
      ]
     },
     "execution_count": 67,
     "metadata": {},
     "output_type": "execute_result"
    }
   ],
   "source": [
    "train_df.shape"
   ]
  },
  {
   "cell_type": "code",
   "execution_count": 61,
   "id": "8bb9d870",
   "metadata": {},
   "outputs": [
    {
     "name": "stdout",
     "output_type": "stream",
     "text": [
      "<class 'pandas.core.frame.DataFrame'>\n",
      "RangeIndex: 1917 entries, 0 to 1916\n",
      "Data columns (total 12 columns):\n",
      " #   Column                        Non-Null Count  Dtype  \n",
      "---  ------                        --------------  -----  \n",
      " 0   Region                        1917 non-null   object \n",
      " 1   WRI                           1917 non-null   float64\n",
      " 2   Exposure                      1917 non-null   float64\n",
      " 3   Vulnerability                 1917 non-null   float64\n",
      " 4   Susceptibility                1917 non-null   float64\n",
      " 5   Lack of Coping Capabilities   1917 non-null   float64\n",
      " 6    Lack of Adaptive Capacities  1916 non-null   float64\n",
      " 7   Year                          1917 non-null   int64  \n",
      " 8   Exposure Category             1917 non-null   object \n",
      " 9   WRI Category                  1916 non-null   object \n",
      " 10  Vulnerability Category        1913 non-null   object \n",
      " 11  Susceptibility Category       1917 non-null   object \n",
      "dtypes: float64(6), int64(1), object(5)\n",
      "memory usage: 179.8+ KB\n"
     ]
    }
   ],
   "source": [
    "train_df.info()"
   ]
  },
  {
   "cell_type": "code",
   "execution_count": 62,
   "id": "4b3db0f8",
   "metadata": {},
   "outputs": [
    {
     "data": {
      "application/vnd.microsoft.datawrangler.viewer.v0+json": {
       "columns": [
        {
         "name": "index",
         "rawType": "object",
         "type": "string"
        },
        {
         "name": "0",
         "rawType": "int64",
         "type": "integer"
        }
       ],
       "ref": "8fdd432b-99ba-4ee5-8859-cda78ae12fba",
       "rows": [
        [
         "Region",
         "0"
        ],
        [
         "WRI",
         "0"
        ],
        [
         "Exposure",
         "0"
        ],
        [
         "Vulnerability",
         "0"
        ],
        [
         "Susceptibility",
         "0"
        ],
        [
         "Lack of Coping Capabilities",
         "0"
        ],
        [
         " Lack of Adaptive Capacities",
         "1"
        ],
        [
         "Year",
         "0"
        ],
        [
         "Exposure Category",
         "0"
        ],
        [
         "WRI Category",
         "1"
        ],
        [
         "Vulnerability Category",
         "4"
        ],
        [
         "Susceptibility Category",
         "0"
        ]
       ],
       "shape": {
        "columns": 1,
        "rows": 12
       }
      },
      "text/plain": [
       "Region                          0\n",
       "WRI                             0\n",
       "Exposure                        0\n",
       "Vulnerability                   0\n",
       "Susceptibility                  0\n",
       "Lack of Coping Capabilities     0\n",
       " Lack of Adaptive Capacities    1\n",
       "Year                            0\n",
       "Exposure Category               0\n",
       "WRI Category                    1\n",
       "Vulnerability Category          4\n",
       "Susceptibility Category         0\n",
       "dtype: int64"
      ]
     },
     "execution_count": 62,
     "metadata": {},
     "output_type": "execute_result"
    }
   ],
   "source": [
    "train_df.isnull().sum()"
   ]
  },
  {
   "cell_type": "code",
   "execution_count": null,
   "id": "4b60f018",
   "metadata": {},
   "outputs": [],
   "source": [
    "%pip install pandas_profiling\n",
    "from pandas_profiling import ProfileReport\n",
    "pf = ProfileReport(train_df)\n",
    "pf.to_file(output_file = 'output.html')"
   ]
  },
  {
   "cell_type": "code",
   "execution_count": null,
   "id": "93d25a5d",
   "metadata": {},
   "outputs": [],
   "source": []
  }
 ],
 "metadata": {
  "kernelspec": {
   "display_name": "Python 3",
   "language": "python",
   "name": "python3"
  },
  "language_info": {
   "codemirror_mode": {
    "name": "ipython",
    "version": 3
   },
   "file_extension": ".py",
   "mimetype": "text/x-python",
   "name": "python",
   "nbconvert_exporter": "python",
   "pygments_lexer": "ipython3",
   "version": "3.13.2"
  }
 },
 "nbformat": 4,
 "nbformat_minor": 5
}
